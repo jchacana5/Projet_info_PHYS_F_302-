{
 "cells": [
  {
   "cell_type": "markdown",
   "metadata": {},
   "source": [
    "# TRAVAIL PERSONNEL  PHYS-F314 \n",
    "## Jonathan Chacana Hernandez & Jerome Somers\n",
    "## 000429782 & 000442437\n"
   ]
  },
  {
   "cell_type": "code",
   "execution_count": 1,
   "metadata": {},
   "outputs": [],
   "source": [
    "import numpy as np"
   ]
  },
  {
   "cell_type": "markdown",
   "metadata": {},
   "source": [
    "### $\\bullet$ Question n°1 : Find a second-order, central finite difference discretization of the biharmonic equation :  "
   ]
  },
  {
   "cell_type": "markdown",
   "metadata": {},
   "source": [
    "Nous allons résoudre l'équation biharmonique suivante :\n",
    "$$ \\nabla^4=\\Delta^2 \\psi = \\frac{\\partial^4 \\psi}{\\partial x^4} + 2 \\frac{\\partial^4 \\psi}{\\partial x^2 \\partial y^2} + \\frac{\\partial^4 \\psi}{\\partial y^4}=0 \\; \\; \\; (1) $$ "
   ]
  },
  {
   "cell_type": "markdown",
   "metadata": {},
   "source": [
    "Pour ce faire, nous allons appliquer la forme générale de l'approximation de la quatrième dérivée du second ordre que voici :\n",
    "$$ f^{\\prime \\prime \\prime \\prime} (x_{0}) \\approx \\frac{f(x_{-2}) - 4 f(x_{-1}) +6f(x_{0}) -4f(x_1) + f(x_2) }{h^4_x} \\; \\; \\; (2)$$"
   ]
  },
  {
   "cell_type": "markdown",
   "metadata": {},
   "source": [
    "En appliquant notre formule $(2)$ à notre équation $(1)$, nous trouvons que l'opérateur bilaplacien discrétisé peut s'écrire comme : "
   ]
  },
  {
   "cell_type": "markdown",
   "metadata": {},
   "source": [
    "\\begin{align*}\n",
    "\\Delta^2 \\psi &= \\frac{\\psi(x_{-2},y_{0}) - 4 \\psi(x_{-1},y_{0}) +6 \\psi(x_{0},y_{0}) -4\\psi(x_{1},y_{0}) + \\psi(x_{+2},y_{0})}{\\Delta x^4} + \\frac{ \\psi(x_{0},y_{-2}) - 4 \\psi(x_{0},y_{-1}) +6 \\psi(x_{0},y_{0}) -4 \\psi(x_{0},y_{+1}) + \\psi(x_{0},y_{+2})}{\\Delta y^4} + 2 \\frac{ 4 \\psi(x_{0},y_{0}) -2 \\left ( \\psi(x_{+1},y_{0}) + \\psi(x_{-1},y_{0} ) + \\psi(x_{0},y_{+1}) + \\psi(x_{0},y_{-1})  \\right ) + \\psi(x_{+1},y_{+1}) + \\psi(x_{+1},y_{-1}) + \\psi(x_{-1},y_{+1}) + \\psi(x_{-1},y_{-1} ) }{\\Delta x^2 \\; \\Delta y^2} \\\\\n",
    "&= 0 \\\\\n",
    "\\end{align*}"
   ]
  },
  {
   "cell_type": "markdown",
   "metadata": {},
   "source": [
    "Nous pouvons réécrire ceci sous une forme plus lisible en utilisant une notation indicielle : "
   ]
  },
  {
   "cell_type": "markdown",
   "metadata": {},
   "source": [
    "\\begin{align*}\n",
    "\\Delta^2 \\psi &= \\frac{ \\psi_{i-2,j} - 4 \\psi_{i-1,j} +6 \\psi_{i,j} -4 \\psi_{i+1,j} + \\psi_{i+2,j} }{\\Delta x^4} + \\frac{ \\psi_{i,j-2} - 4 \\psi_{i,j-1} +6 \\psi_{i,j} -4 \\psi_{i,j+1} +  \\psi_{i,j+2}}{\\Delta y^4} + 2 \\frac{ 4 \\psi_{i,j} -2 \\left( \\psi_{i+1,j} + \\psi_{i-1,j} + \\psi_{i,j+1} + \\psi_{i,j-1}  \\right ) + \\psi_{i+1,j+1} + \\psi_{i+1,j-1} + \\psi_{i-1,j+1} + \\psi_{i-1,j-1}}{\\Delta x^2 \\; \\Delta y^2} \\\\\n",
    " &= 0\n",
    "\\end{align*}"
   ]
  },
  {
   "cell_type": "markdown",
   "metadata": {},
   "source": [
    "Nous pouvons écrire $ \\Delta x = \\Delta y$ et en dévelloppant nous trouvons : "
   ]
  },
  {
   "cell_type": "markdown",
   "metadata": {},
   "source": [
    "\\begin{align*}\n",
    "\\Delta^2 \\psi &= \\psi_{i-2,j} - 4 \\psi_{i-1,j} +6 \\psi_{i,j} -4 \\psi_{i+1,j} + \\psi_{i+2,j} + \\psi_{i,j-2} - 4 \\psi_{i,j-1} +6 \\psi_{i,j} -4 \\psi_{i,j+1} +  \\psi_{i,j+2} + 8\\psi_{i,j} -4 \\psi_{i+1,j} -4 \\psi_{i-1,j} - 4 \\psi_{i,j+1} + -4 \\psi_{i,j-1} + 2 \\left( \\psi_{i+1,j+1} + \\psi_{i+1,j-1} + \\psi_{i-1,j+1} + \\psi_{i-1,j-1} \\right) \\\\\n",
    "&=  \\psi_{i-2,j} + \\psi_{i+2,j} + \\psi_{i,j-2} + \\psi_{i,j+2} +  6 \\psi_{i,j} + 6 \\psi_{i,j} + 8 \\psi_{i,j} + 2 \\left ( \\psi_{i+1,j} + \\psi_{i-1,j} + \\psi_{i,j+1} + \\psi_{i,j-1} \\right ) - 8 \\left( \\psi_{i-1,j} +  \\psi_{i+1,j} + \\psi_{i,j+1} \\psi_{i,j-1} \\right )  \\\\\n",
    "&=  \\psi_{i-2,j} + \\psi_{i+2,j} + \\psi_{i,j-2} + \\psi_{i,j+2} + 2 \\left ( \\psi_{i+1,j} + \\psi_{i-1,j} + \\psi_{i,j+1} + \\psi_{i,j-1} \\right )  - 8 \\left( \\psi_{i-1,j} +  \\psi_{i+1,j} + \\psi_{i,j+1} \\psi_{i,j-1} \\right ) + 20 \\psi_{i,j} \\\\\n",
    "&= 0 \\\\\n",
    "\\end{align*}"
   ]
  },
  {
   "cell_type": "markdown",
   "metadata": {},
   "source": [
    "Notre équation peut donc être réécrite comme : "
   ]
  },
  {
   "cell_type": "markdown",
   "metadata": {},
   "source": [
    "$$ \\boxed {\\Delta^2 \\psi  = \\psi_{i-2,j} + \\psi_{i+2,j} + \\psi_{i,j-2} + \\psi_{i,j+2} + 2 \\left ( \\psi_{i+1,j} + \\psi_{i-1,j} + \\psi_{i,j+1} + \\psi_{i,j-1} \\right )  - 8 \\left( \\psi_{i-1,j} +  \\psi_{i+1,j} + \\psi_{i,j+1} + \\psi_{i,j-1} \\right ) + 20 \\psi_{i,j} = 0 }\\; \\; \\; (3)  $$ "
   ]
  },
  {
   "cell_type": "markdown",
   "metadata": {},
   "source": [
    "Ou encore  en fonction $\\psi_{i,j}$:"
   ]
  },
  {
   "cell_type": "markdown",
   "metadata": {},
   "source": [
    " $$ \\boxed{ \\psi_{i,j} = - \\frac{1}{20} \\left ( \\psi_{i-2,j} + \\psi_{i+2,j} + \\psi_{i,j-2} + \\psi_{i,j+2} \\right ) - \\frac{1}{10} \\left ( \\psi_{i+1,j} + \\psi_{i-1,j} + \\psi_{i,j+1} + \\psi_{i,j-1} \\right )  +  \\frac{2}{5} \\left( \\psi_{i-1,j} +  \\psi_{i+1,j} + \\psi_{i,j+1} + \\psi_{i,j-1} \\right )  = 0 } \\; \\; \\; (4) $$"
   ]
  },
  {
   "cell_type": "markdown",
   "metadata": {},
   "source": [
    "### $\\bullet$ Question n°2 : Implement the boundary conditions using forward or backward, second order accurate finite differences (use only interior boundary nodes). "
   ]
  },
  {
   "cell_type": "markdown",
   "metadata": {},
   "source": [
    "Pour chaque côté de la cuve nous avons deux conditions aux bords. L'une de Dirichlet et une de Neumann. Pour les conditions de Dirichlet nous allons les réecrire sous forme indicielle et pour celles de Neumann nous allons les discrétiser à l'aide de la différence finis \"Forward\" ou \"Backward \" selon les cas afin d'obtenir les points intérieurs. "
   ]
  },
  {
   "cell_type": "markdown",
   "metadata": {},
   "source": [
    "#### Pour le côté gauche $(i=0)$, nous avons les conditions suivantes (forward method) : \n",
    "$$ \\psi=\\psi_{0,j}= 0 $$  \n",
    "\\begin{align}\n",
    "\\frac{\\partial \\psi}{\\partial x} &=  \\frac{- \\frac{3}{2} \\psi_{0,j} + 2 \\psi_{1,j} - \\frac{1}{2} \\psi_{+2,j}}{\\Delta x} \\\\\n",
    "&=2 \\psi_{1,j} - \\frac{1}{2} \\psi_{+2,j} \\\\\n",
    "&= 0 \n",
    "\\end{align}"
   ]
  },
  {
   "cell_type": "markdown",
   "metadata": {},
   "source": [
    "Nous trouvons que : "
   ]
  },
  {
   "cell_type": "markdown",
   "metadata": {},
   "source": [
    "$$ \\psi_{2,j} = 4 \\psi_{1,j} $$"
   ]
  },
  {
   "cell_type": "markdown",
   "metadata": {},
   "source": [
    "#### Pour le côté droit $(i=l)$, nous avons les conditions suivantes (backward method) : \n",
    "$$ \\psi=\\psi_{l,j}= 0 $$  \n",
    "\\begin{align} \n",
    "\\frac{\\partial \\psi}{\\partial x} &= \\frac{+ \\frac{3}{2} \\psi_{l,j} - 2 \\psi_{l-1,j} + \\frac{1}{2} \\psi_{l-2,j}}{\\Delta x} \\\\\n",
    "&= - 2 \\psi_{l-1,j} + \\frac{1}{2} \\psi_{l-2,j} \\\\ \n",
    "&= 0 \\\\\n",
    "\\end{align}"
   ]
  },
  {
   "cell_type": "markdown",
   "metadata": {},
   "source": [
    "Nous trouvons que : "
   ]
  },
  {
   "cell_type": "markdown",
   "metadata": {},
   "source": [
    "$$  \\psi_{l-2,j} = 4 \\psi_{l-1,j}$$"
   ]
  },
  {
   "cell_type": "markdown",
   "metadata": {},
   "source": [
    "#### Pour le côté du haut $(j=h)$, nous avons les conditions suivantes (backward method) : \n",
    "$$ \\psi=\\psi_{i,h}= 0 $$  \n",
    "\\begin{align}\n",
    "\\frac{\\partial \\psi}{\\partial y} &= \\frac{ + \\frac{3}{2} \\psi_{i,h} - 2 \\psi_{i,h-1} + \\frac{1}{2} \\psi_{i,h-2} } {\\Delta y}  \\\\\n",
    "&= \\frac{- 2 \\psi_{i,h-1} + \\frac{1}{2} \\psi_{i,h-2}}{\\Delta y}  \\\\\n",
    "&= 1 \\\\\n",
    "\\end{align}"
   ]
  },
  {
   "cell_type": "markdown",
   "metadata": {},
   "source": [
    "Nous trouvons que : "
   ]
  },
  {
   "cell_type": "markdown",
   "metadata": {},
   "source": [
    "$$ \\psi_{i,h-2} = 2 \\Delta y + 4 \\psi_{i,h-1}  $$"
   ]
  },
  {
   "cell_type": "markdown",
   "metadata": {},
   "source": [
    "#### Pour le côté du bas $(j=0)$ , nous avons les conditions suivantes (forward method): \n",
    "$$ \\psi=\\psi_{i,0}= 0 $$  \n",
    "\\begin{align}\n",
    "\\frac{\\partial \\psi}{\\partial y} &= \\frac{- \\frac{3}{2} \\psi_{i,0} + 2 \\psi_{i,1} - \\frac{1}{2} \\psi_{i,2}}{\\Delta y} \\\\\n",
    "&= + 2 \\psi_{i,1} - \\frac{1}{2}\\psi_{i,2}  \\\\\n",
    "&= 0 \\\\\n",
    "\\end{align}"
   ]
  },
  {
   "cell_type": "markdown",
   "metadata": {},
   "source": [
    "Nous trouvons que : "
   ]
  },
  {
   "cell_type": "markdown",
   "metadata": {},
   "source": [
    "$$ \\psi_{i,2} = 4 \\psi_{i,1} $$"
   ]
  },
  {
   "cell_type": "markdown",
   "metadata": {},
   "source": [
    "Finalement, nous avons pu, grâce aux conditions aux bords, déterminer toute une série de point qui nous étaient impossibles à déterminer à l'aide de l'équation biharmonique. En effet, puisque ceux-ci étaient donnés en fonction de points en dehors du domaine dans le lequel on se situe. Ces points sont les points extérieurs du domaine tandis que les points calculés à partir de l'équation (4) sont les points intérieurs du domaine."
   ]
  },
  {
   "cell_type": "markdown",
   "metadata": {},
   "source": [
    "### $\\bullet$ Question n°3 : Solve the biharmonic equation using the conjugate gradient method. "
   ]
  },
  {
   "cell_type": "markdown",
   "metadata": {},
   "source": [
    "Nous présentons les paramètres de discrétisation : "
   ]
  },
  {
   "cell_type": "code",
   "execution_count": 2,
   "metadata": {},
   "outputs": [],
   "source": [
    "def L1_norm(u, u_ref):\n",
    "    norm = np.sum(np.abs(u-u_ref))\n",
    "    return norm"
   ]
  },
  {
   "cell_type": "code",
   "execution_count": 3,
   "metadata": {},
   "outputs": [],
   "source": [
    "def Method_conjugate_gradient_2d(p, b, dx, dy, l1_target):\n",
    "   \n",
    "    ny, nx = p.shape\n",
    "    r  = np.zeros((ny,nx)) \n",
    "    Ad  = np.zeros((ny,nx)) \n",
    "    \n",
    "    l1_norm = 1\n",
    "    iterations = 0\n",
    "    l1_conv = []    \n",
    "    \n",
    "    \n",
    "\n",
    "    \n",
    "    r[2:-2,2:-2] = b + ( -0.05*( p[:-4,2:-2] + p[4:,2:-2] + p[2:-2,:-4] + p[2:-2, 4:]) -0.1*( p[3:-1,2:-2] + p[1:-3, 2:-2]  +  p[3:-1,2:-2] + p[2:-2,1:-3] ) + 0.4*(p[1:-3, 2:-2] + p[3:-1,2:-2] + p[2:-2,3:-1] + p[2:-2,1:-3]) ) /dx**2\n",
    "    d = r.copy()\n",
    "    rho = np.sum(r*r)\n",
    "    Ad[2:-2,2:-2] = ( 20*d[2:-2,2:-2] + d[:-4,2:-2] + d[4:,2:-2] + d[2:-2, :-4] + d[2:-2, 4:] +2*( d[3:-1,2:-2] + d[1:-3,2:-2] + d[3:-1,2:-2] + d[2:-2,1:-3]) -8*( d[1:-3, 2:-2] + d[3:-1,2:-2] + d[2:-2,3:-1] + d[2:-2,1:-3]) )/dx**2\n",
    "    sigma = np.sum(d*Ad)\n",
    "    \n",
    "    # Boucle \n",
    "    while l1_norm > l1_target and iterations <= nx:  #limite le nombre d'itération car l1_norm augmente au lieu de diminuer\n",
    "\n",
    "        pk = p.copy()\n",
    "        rk = r.copy()\n",
    "        dk = d.copy()\n",
    "        \n",
    "        alpha = rho/sigma\n",
    "\n",
    "        p = pk + alpha*dk\n",
    "        r = rk- alpha*Ad\n",
    "        \n",
    "        rhop1 = np.sum(r*r)\n",
    "        beta = rhop1 / rho\n",
    "        rho = rhop1\n",
    "        \n",
    "        d = r + beta*dk\n",
    "        Ad[2:-2,2:-2] = ( 20*d[2:-2,2:-2] + d[:-4,2:-2] + d[4:,2:-2] + d[2:-2, :-4] + d[2:-2, 4:] +2*( d[3:-1,2:-2] + d[1:-3,2:-2] + d[3:-1,2:-2] + d[2:-2,1:-3]) -8*( d[1:-3, 2:-2] + d[3:-1,2:-2] + d[2:-2,3:-1] + d[2:-2,1:-3]) )/dx**2\n",
    "        sigma = np.sum(d*Ad)\n",
    "    \n",
    "        #Conditions aux bords \n",
    "        #Neumann  \n",
    "        p[:,2:3]=4*p[:,1:2]             #ψ_2,j = 4*ψ_1,j #Bord Gauche\n",
    "        p[2:3,:] = 2+4*p[1:2,:]         #ψ_i,h-2=2+4*ψ_i,h-1 #Bord haut\n",
    "        p[:,-3:-2]= 4*p[:,-2:-1]        #ψ_l-2,j = 4*ψ_l-1,j #Bord Droit \n",
    "        p[-3:-2,:] = 4*p[-2:-1,:]       #ψi,1=1/4*ψ_i,2 #Bord Bas\n",
    "        \n",
    "        #Dirichlet \n",
    "        p[:,:2]=0      #ψ_0,j = 0\n",
    "        p[:,nx-2]=0    #ψ_l,j = 0\n",
    "        p[:2,:]=0      #ψ_i,h = 0\n",
    "        p[nx-2:,:]=0   #ψ_i,0 = 0\n",
    "        \n",
    "   \n",
    "    \n",
    "        l1_norm = L1_norm(pk,p)\n",
    "        iterations += 1\n",
    "        l1_conv.append(l1_norm)\n",
    "        print (l1_norm)\n",
    "\n",
    "    \n",
    "    print('Nombres d itérations: {0:d}'.format(iterations))\n",
    "    return p, l1_conv"
   ]
  },
  {
   "cell_type": "markdown",
   "metadata": {},
   "source": [
    "Avant de pouvoir utiliser notre fonction afin de résoudre notre équation biharmonique, nous devons définir ses paramètres. Voici les paramètres que nous allons utlisers : "
   ]
  },
  {
   "cell_type": "code",
   "execution_count": 4,
   "metadata": {},
   "outputs": [],
   "source": [
    "nx = 41 #nombres de points dans la direction x\n",
    "ny = 41 #nombres de points dnas la direction y\n",
    "\n",
    "l = 1.0 #longueur de la cavité carrée\n",
    "h = 1.0 #hauteur de la cavité carrée\n",
    "\n",
    "dx = l/(nx-1)\n",
    "dy = h/(ny-1)\n",
    "\n",
    "b=0 #Car équation de Laplace implique que le terme indépendant dans l'équation est nul\n",
    "\n",
    "l1_target = 1e-8\n",
    "\n",
    "p=np.zeros((ny,nx))  #Matrice initiale nulle partout \n",
    "p[-2:-1,1:-1]=-dx/4  #Sauf en avant-dernière ligne \n"
   ]
  },
  {
   "cell_type": "code",
   "execution_count": 6,
   "metadata": {},
   "outputs": [
    {
     "name": "stdout",
     "output_type": "stream",
     "text": [
      "83.31977958507932\n",
      "1.0771192949919655\n",
      "0.0009355486005195083\n",
      "0.0009749063546347285\n",
      "0.0006221565889651187\n",
      "0.0005188567923338695\n",
      "0.0003690726971376852\n",
      "0.0003003161299754762\n",
      "0.00018834775850485778\n",
      "0.00012323577879692582\n",
      "8.782620273733457e-05\n",
      "6.517846900616926e-05\n",
      "5.8232923771896685e-05\n",
      "4.5983689032485375e-05\n",
      "4.356642010396464e-05\n",
      "4.974937506093124e-05\n",
      "6.589399165674416e-05\n",
      "9.63514176621207e-05\n",
      "0.00013930731477309797\n",
      "0.0001900440122348402\n",
      "0.00021446069727856906\n",
      "0.00021099825938739644\n",
      "0.0001947334775738875\n",
      "0.00017366193844811707\n",
      "0.00014779515076219468\n",
      "0.00012315866506705427\n",
      "0.00010225436146338882\n",
      "8.759485573427062e-05\n",
      "7.637400923585497e-05\n",
      "6.9386377003878e-05\n",
      "6.46455552408639e-05\n",
      "6.097276004371553e-05\n",
      "5.853683255760039e-05\n",
      "5.8416506180581104e-05\n",
      "5.924836366810226e-05\n",
      "6.02702560876683e-05\n",
      "6.194269908693684e-05\n",
      "6.395673551604116e-05\n",
      "6.61113617398707e-05\n",
      "6.856911290320209e-05\n",
      "7.109376944412364e-05\n",
      "7.386193531506611e-05\n",
      "Nombres d itérations: 42\n"
     ]
    },
    {
     "data": {
      "text/plain": [
       "(array([[0., 0., 0., ..., 0., 0., 0.],\n",
       "        [0., 0., 0., ..., 0., 0., 0.],\n",
       "        [0., 0., 2., ..., 8., 0., 2.],\n",
       "        ...,\n",
       "        [0., 0., 0., ..., 0., 0., 0.],\n",
       "        [0., 0., 0., ..., 0., 0., 0.],\n",
       "        [0., 0., 0., ..., 0., 0., 0.]]),\n",
       " [83.31977958507932,\n",
       "  1.0771192949919655,\n",
       "  0.0009355486005195083,\n",
       "  0.0009749063546347285,\n",
       "  0.0006221565889651187,\n",
       "  0.0005188567923338695,\n",
       "  0.0003690726971376852,\n",
       "  0.0003003161299754762,\n",
       "  0.00018834775850485778,\n",
       "  0.00012323577879692582,\n",
       "  8.782620273733457e-05,\n",
       "  6.517846900616926e-05,\n",
       "  5.8232923771896685e-05,\n",
       "  4.5983689032485375e-05,\n",
       "  4.356642010396464e-05,\n",
       "  4.974937506093124e-05,\n",
       "  6.589399165674416e-05,\n",
       "  9.63514176621207e-05,\n",
       "  0.00013930731477309797,\n",
       "  0.0001900440122348402,\n",
       "  0.00021446069727856906,\n",
       "  0.00021099825938739644,\n",
       "  0.0001947334775738875,\n",
       "  0.00017366193844811707,\n",
       "  0.00014779515076219468,\n",
       "  0.00012315866506705427,\n",
       "  0.00010225436146338882,\n",
       "  8.759485573427062e-05,\n",
       "  7.637400923585497e-05,\n",
       "  6.9386377003878e-05,\n",
       "  6.46455552408639e-05,\n",
       "  6.097276004371553e-05,\n",
       "  5.853683255760039e-05,\n",
       "  5.8416506180581104e-05,\n",
       "  5.924836366810226e-05,\n",
       "  6.02702560876683e-05,\n",
       "  6.194269908693684e-05,\n",
       "  6.395673551604116e-05,\n",
       "  6.61113617398707e-05,\n",
       "  6.856911290320209e-05,\n",
       "  7.109376944412364e-05,\n",
       "  7.386193531506611e-05])"
      ]
     },
     "execution_count": 6,
     "metadata": {},
     "output_type": "execute_result"
    }
   ],
   "source": [
    "Method_conjugate_gradient_2d(p, b, dx, dy, l1_target)"
   ]
  },
  {
   "cell_type": "markdown",
   "metadata": {},
   "source": [
    "Nous avons ajouter à notre fonction \"Method_gradient_conjugate_2D\" la commande \"print (l1_norm)\" afin de vérifier si la norme convergeait correctement vers la cible malheureusement ce n'est absolument le cas. Celle-ci diminue bien pendant un certain nombre d'itérations mais ensuite réaugmente subitement. Elle n'a donc pas un convergeant. Donc malheureusement notre résolution de l'équation biharmornique est un échec . Nous pensons que notre erreur se situe dans la définition des paramètres $p$ et $b$."
   ]
  },
  {
   "cell_type": "markdown",
   "metadata": {},
   "source": [
    "### $\\bullet$ Question n°4 : What is the value of the stream function at location (x,y): (0.6,0.2), (0.6,0.4), (0.6,0.6), (0.6,0.8)?  "
   ]
  },
  {
   "cell_type": "code",
   "execution_count": null,
   "metadata": {},
   "outputs": [],
   "source": []
  },
  {
   "cell_type": "markdown",
   "metadata": {},
   "source": [
    "## $\\bullet$  Conclusion :"
   ]
  },
  {
   "cell_type": "markdown",
   "metadata": {},
   "source": [
    "Finalement,nous ne sommes pas parvenus au but de ce projet qui était de résoudre l'équation biharmonique. Nous sommes déçu de ne pas y être parvenus. Malgré nos efforts et nombreux test afin de résoudre cette équation. Malgré tout nous sommes confiants pour la première partie du travail qui nous semble correct. "
   ]
  }
 ],
 "metadata": {
  "kernelspec": {
   "display_name": "Python 3",
   "language": "python",
   "name": "python3"
  },
  "language_info": {
   "codemirror_mode": {
    "name": "ipython",
    "version": 3
   },
   "file_extension": ".py",
   "mimetype": "text/x-python",
   "name": "python",
   "nbconvert_exporter": "python",
   "pygments_lexer": "ipython3",
   "version": "3.7.3"
  }
 },
 "nbformat": 4,
 "nbformat_minor": 2
}
